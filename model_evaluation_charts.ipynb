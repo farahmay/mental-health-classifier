{
 "cells": [
  {
   "cell_type": "code",
   "execution_count": null,
   "metadata": {
    "vscode": {
     "languageId": "markdown"
    }
   },
   "outputs": [],
   "source": [
    "# Class Metrics and Convolution Matrix\n",
    "visualizations for class metrics and convolution matrices, with pandas and seaborn"
   ]
  },
  {
   "cell_type": "code",
   "execution_count": null,
   "metadata": {
    "vscode": {
     "languageId": "markdown"
    }
   },
   "outputs": [],
   "source": [
    "import pandas as pd\n",
    "import matplotlib.pyplot as plt\n",
    "import seaborn as sns\n",
    "\n",
    "# Créer un DataFrame avec les métriques\n",
    "metrics_data = {\n",
    "    'Classe': ['Addiction', 'Anger', 'Anxiety', 'Depression', 'Stress'],\n",
    "    'Précision': [1.00, 1.00, 1.00, 0.35, 1.00],\n",
    "    'Rappel': [0.44, 0.50, 0.35, 1.00, 0.50],\n",
    "    'F1-Score': [0.61, 0.67, 0.52, 0.52, 0.67],\n",
    "    'Support': [126, 121, 86, 131, 116]\n",
    "}\n",
    "df = pd.DataFrame(metrics_data)\n",
    "\n",
    "# Créer une figure avec plusieurs sous-graphiques\n",
    "plt.figure(figsize=(15, 10))\n",
    "\n",
    "# 1. Graphique à barres des métriques principales\n",
    "plt.subplot(2, 1, 1)\n",
    "x = range(len(df['Classe']))\n",
    "width = 0.25\n",
    "\n",
    "plt.bar(x, df['Précision'], width, label='Précision', color='#2ecc71')\n",
    "plt.bar([i + width for i in x], df['Rappel'], width, label='Rappel', color='#3498db')\n",
    "plt.bar([i + width * 2 for i in x], df['F1-Score'], width, label='F1-Score', color='#e74c3c')\n",
    "\n",
    "plt.xlabel('Classes')\n",
    "plt.ylabel('Scores')\n",
    "plt.title('Métriques de Classification par Classe')\n",
    "plt.xticks([i + width for i in x], df['Classe'], rotation=45)\n",
    "plt.legend()\n",
    "\n",
    "# 2. Heatmap des métriques\n",
    "plt.subplot(2, 1, 2)\n",
    "metrics_matrix = df[['Précision', 'Rappel', 'F1-Score']].values\n",
    "sns.heatmap(metrics_matrix,\n",
    "            annot=True,\n",
    "            cmap='YlOrRd',\n",
    "            xticklabels=['Précision', 'Rappel', 'F1-Score'],\n",
    "            yticklabels=df['Classe'],\n",
    "            fmt='.2f')\n",
    "plt.title('Heatmap des Métriques de Classification')\n",
    "\n",
    "plt.tight_layout()\n",
    "plt.show()"
   ]
  }
 ],
 "metadata": {
  "language_info": {
   "name": "python"
  }
 },
 "nbformat": 4,
 "nbformat_minor": 2
}
