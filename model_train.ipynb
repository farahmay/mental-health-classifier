{
 "cells": [
  {
   "cell_type": "code",
   "execution_count": null,
   "metadata": {
    "vscode": {
     "languageId": "plaintext"
    }
   },
   "outputs": [],
   "source": [
    "import pandas as pd\n",
    "import re\n",
    "import spacy\n",
    "from sklearn.pipeline import Pipeline\n",
    "from sklearn.feature_extraction.text import TfidfVectorizer\n",
    "from sklearn.ensemble import RandomForestClassifier\n",
    "from sklearn.model_selection import train_test_split\n",
    "from sklearn.metrics import classification_report\n",
    "import joblib\n",
    "\n",
    "#Load spaCy model for tokenization and lemmatization\n",
    "nlp = spacy.load('en_core_web_sm', disable=['ner', 'parser'])\n",
    "\n",
    "#Define a custom tokenizer function\n",
    "def custom_tokenizer(text):\n",
    "    # Basic text cleaning\n",
    "    text = re.sub(r'[^a-zA-Z0-9\\s]', '', text, re.I | re.A)\n",
    "    text = text.lower()\n",
    "    doc = nlp(text)\n",
    "    # Lemmatize, lowercase, and remove stopwords and non-alphabetic tokens\n",
    "    tokens = [token.lemma_ for token in doc if not token.is_stop and token.is_alpha]\n",
    "    return tokens\n",
    "\n",
    "data = pd.read_csv('mental_health_conversations.csv')  # Replace with your dataset path\n",
    "data = data[data[\"labels\"].isin([\"depression\", \"anxiety\", \"stress\", \"anger\", \"addiction\"])]\n",
    "\n",
    "X = data['message']\n",
    "y = data['labels']\n",
    "X_train, X_test, y_train, y_test = train_test_split(X, y, test_size=0.2, random_state=42)\n",
    "\n",
    "\n",
    "pipeline = Pipeline([\n",
    "    ('vectorizer', TfidfVectorizer(\n",
    "        tokenizer=custom_tokenizer,\n",
    "        max_features=5000\n",
    "    )),\n",
    "    ('classifier', RandomForestClassifier(n_estimators=200, max_depth=10, random_state=42))\n",
    "])\n",
    "\n",
    "# Train the model\n",
    "pipeline.fit(X_train, y_train)\n",
    "\n",
    "# Evaluate the model\n",
    "y_pred = pipeline.predict(X_test)\n",
    "print(\"Classification Report:\")\n",
    "print(classification_report(y_test, y_pred))\n",
    "\n",
    "# Save the model using joblib\n",
    "joblib.dump(pipeline, 'advanced_mental_health_classifier.joblib')\n",
    "print(\"Model saved successfully.\")\n"
   ]
  }
 ],
 "metadata": {
  "language_info": {
   "name": "python"
  }
 },
 "nbformat": 4,
 "nbformat_minor": 2
}
