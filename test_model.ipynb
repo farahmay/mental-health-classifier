{
 "cells": [
  {
   "cell_type": "markdown",
   "metadata": {},
   "source": []
  },
  {
   "cell_type": "markdown",
   "metadata": {},
   "source": [
    "\"\"\"\n",
    "Title: Model Test\n",
    "\n",
    "Description:\n",
    "This script is designed to test a machine learning model by saving it, loading it, and then testing it with real inputs. The process ensures that the model's performance is consistent and reliable after being serialized and deserialized. The test involves the following steps:\n",
    "1. Save the trained model to a file.\n",
    "2. Load the model from the saved file.\n",
    "3. Test the loaded model with real input data to verify its accuracy and performance.\n",
    "\"\"\""
   ]
  },
  {
   "cell_type": "markdown",
   "metadata": {},
   "source": [
    "\n",
    "\n",
    "def load_model_components(path):\n",
    "    preprocessor = joblib.load(f\"{path}_preprocessor.pkl\")\n",
    "    vectorizer = joblib.load(f\"{path}_vectorizer.pkl\")\n",
    "    classifier = joblib.load(f\"{path}_classifier.pkl\")\n",
    "    return preprocessor, vectorizer, classifier\n",
    "\n",
    "def classify_conversation(model_path, conversation):\n",
    "    preprocessor, vectorizer, classifier = load_model_components(model_path)\n",
    "\n",
    "    # Preprocess and vectorize the conversation\n",
    "    processed_text = preprocessor.transform([conversation])\n",
    "    vectorized_text = vectorizer.transform(processed_text)\n",
    "\n",
    "    # Predict the label\n",
    "    prediction = classifier.predict(vectorized_text)\n",
    "    return prediction[0]\n",
    "\n",
    "# Example usage\n",
    "model_path = \"advanced_mental_health_classifier\"\n",
    "sample_conversation = \"\"\"\n",
    "\"Bot\": \"how are you feeling today?\"\n",
    "\"User\": \"I've been having a hard time with suicidal_ideation.\"\n",
    "\"Bot\": \"What strategies have you tried to cope with this?\"\n",
    "\"User\": \"Sometimes I feel like everyone would be better off without me\"\n",
    "\"\"\"\n",
    "prediction = classify_conversation(model_path, sample_conversation)\n",
    "print(f\"Prediction: {prediction}\")\n"
   ]
  },
  {
   "cell_type": "markdown",
   "metadata": {},
   "source": []
  }
 ],
 "metadata": {
  "language_info": {
   "name": "python"
  }
 },
 "nbformat": 4,
 "nbformat_minor": 2
}
